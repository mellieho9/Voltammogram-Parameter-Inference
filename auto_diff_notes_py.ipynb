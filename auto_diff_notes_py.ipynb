{
  "nbformat": 4,
  "nbformat_minor": 0,
  "metadata": {
    "colab": {
      "name": "auto_diff_notes.py",
      "provenance": []
    },
    "kernelspec": {
      "name": "python3",
      "display_name": "Python 3"
    },
    "language_info": {
      "name": "python"
    },
    "accelerator": "GPU"
  },
  "cells": [
    {
      "cell_type": "markdown",
      "source": [
        "# Setting up\n"
      ],
      "metadata": {
        "id": "nsJGkCZjHsih"
      }
    },
    {
      "cell_type": "code",
      "source": [
        "pip install --upgrade \"jax[cpu]\""
      ],
      "metadata": {
        "id": "GN6IJ3j-IruT",
        "colab": {
          "base_uri": "https://localhost:8080/"
        },
        "outputId": "487eca03-b084-4103-bcea-c3154cda2f19"
      },
      "execution_count": null,
      "outputs": [
        {
          "output_type": "stream",
          "name": "stdout",
          "text": [
            "Requirement already satisfied: jax[cpu] in /usr/local/lib/python3.7/dist-packages (0.3.4)\n",
            "Requirement already satisfied: typing-extensions in /usr/local/lib/python3.7/dist-packages (from jax[cpu]) (4.2.0)\n",
            "Requirement already satisfied: absl-py in /usr/local/lib/python3.7/dist-packages (from jax[cpu]) (1.0.0)\n",
            "Requirement already satisfied: scipy>=1.2.1 in /usr/local/lib/python3.7/dist-packages (from jax[cpu]) (1.4.1)\n",
            "Requirement already satisfied: opt-einsum in /usr/local/lib/python3.7/dist-packages (from jax[cpu]) (3.3.0)\n",
            "Requirement already satisfied: numpy>=1.19 in /usr/local/lib/python3.7/dist-packages (from jax[cpu]) (1.21.6)\n",
            "Requirement already satisfied: jaxlib==0.3.2 in /usr/local/lib/python3.7/dist-packages (from jax[cpu]) (0.3.2+cuda11.cudnn805)\n",
            "Requirement already satisfied: flatbuffers<3.0,>=1.12 in /usr/local/lib/python3.7/dist-packages (from jaxlib==0.3.2->jax[cpu]) (2.0)\n",
            "Requirement already satisfied: six in /usr/local/lib/python3.7/dist-packages (from absl-py->jax[cpu]) (1.15.0)\n"
          ]
        }
      ]
    },
    {
      "cell_type": "code",
      "source": [
        "from jax.config import config\n",
        "config.update(\"jax_enable_x64\", True)\n",
        "\n",
        "import jax.numpy as np"
      ],
      "metadata": {
        "id": "mPRNwGFQM20t"
      },
      "execution_count": null,
      "outputs": []
    },
    {
      "cell_type": "code",
      "source": [
        ""
      ],
      "metadata": {
        "id": "O1a79IrpNP6q"
      },
      "execution_count": null,
      "outputs": []
    },
    {
      "cell_type": "markdown",
      "source": [
        "# Scalar Function\n"
      ],
      "metadata": {
        "id": "F2VK2jYxNQyK"
      }
    },
    {
      "cell_type": "markdown",
      "source": [
        "`grad` takes at least one argument that is a function and a second argument for which function argument to take the derivative with respect to\n",
        "\n",
        "In the example below, a function f(x;(a,b,c))=ax^2+bx+c is defined. "
      ],
      "metadata": {
        "id": "--qYv4tPN6WG"
      }
    },
    {
      "cell_type": "code",
      "source": [
        "from jax import grad"
      ],
      "metadata": {
        "id": "3NqEsukKNji_"
      },
      "execution_count": null,
      "outputs": []
    },
    {
      "cell_type": "code",
      "source": [
        "def f(x, pars):\n",
        "    a, b, c = pars\n",
        "    return a * x**2 + b * x + c\n",
        "\n",
        "fx = grad(f)"
      ],
      "metadata": {
        "id": "DXPj_2NsNmTh"
      },
      "execution_count": null,
      "outputs": []
    },
    {
      "cell_type": "code",
      "source": [
        "fx(2.0, [1, 2, 3])"
      ],
      "metadata": {
        "colab": {
          "base_uri": "https://localhost:8080/"
        },
        "id": "2_8rXIkZNzRO",
        "outputId": "a3778028-c9c1-4f9b-b57d-45e7c8f81d7b"
      },
      "execution_count": null,
      "outputs": [
        {
          "output_type": "execute_result",
          "data": {
            "text/plain": [
              "DeviceArray(6., dtype=float64, weak_type=True)"
            ]
          },
          "metadata": {},
          "execution_count": 6
        }
      ]
    },
    {
      "cell_type": "markdown",
      "source": [
        "Should avoid using integer for x because they are not differentiable"
      ],
      "metadata": {
        "id": "CptSTQ-pN2Lb"
      }
    },
    {
      "cell_type": "markdown",
      "source": [
        "To get the derivative with respect to the second argument (the array), we use 1 for the argnums argument"
      ],
      "metadata": {
        "id": "zyh6amFOOcEb"
      }
    },
    {
      "cell_type": "code",
      "source": [
        "fp = grad(f, argnums=1)  # df / dpars, pars is arg 1\n",
        "\n",
        "fp(2.0, np.array([1.0, 2.0, 3.0]))"
      ],
      "metadata": {
        "colab": {
          "base_uri": "https://localhost:8080/"
        },
        "id": "ISFotzeNOJwA",
        "outputId": "89d4fe38-8f33-4131-9d24-4e77a9985208"
      },
      "execution_count": null,
      "outputs": [
        {
          "output_type": "execute_result",
          "data": {
            "text/plain": [
              "DeviceArray([4., 2., 1.], dtype=float64)"
            ]
          },
          "metadata": {},
          "execution_count": 7
        }
      ]
    },
    {
      "cell_type": "code",
      "source": [
        "df = grad(f, argnums=[0, 1])\n",
        "\n",
        "df(2.0, np.array([1., 2., 3.]))"
      ],
      "metadata": {
        "colab": {
          "base_uri": "https://localhost:8080/"
        },
        "id": "1NqZIXzePOTE",
        "outputId": "647e55b2-127c-4ea3-f350-ebfdf75fcba4"
      },
      "execution_count": null,
      "outputs": [
        {
          "output_type": "execute_result",
          "data": {
            "text/plain": [
              "(DeviceArray(6., dtype=float64, weak_type=True),\n",
              " DeviceArray([4., 2., 1.], dtype=float64))"
            ]
          },
          "metadata": {},
          "execution_count": 8
        }
      ]
    },
    {
      "cell_type": "markdown",
      "source": [
        "`vmap` is used to create a vectorized mapping function. To use `vmap`, we have to specify which arguments to map over."
      ],
      "metadata": {
        "id": "8-iaMCT8Pgjl"
      }
    },
    {
      "cell_type": "code",
      "source": [
        "from jax import vmap \n",
        "\n",
        "vfx = vmap(fx, in_axes=(0, None))\n",
        "\n",
        "x = np.linspace(0, 2)\n",
        "\n",
        "dfp = vfx(x, np.array([1., 2., 3.]))\n",
        "\n",
        "# compare to the analytical derivative\n",
        "np.allclose(dfp, np.polyval(np.polyder(np.array([1.0, 2., 3.])), x))\n",
        "\n",
        "%timeit np.array([fx(_x, np.array([1.0, 2., 3.])) for _x in x])"
      ],
      "metadata": {
        "colab": {
          "base_uri": "https://localhost:8080/"
        },
        "id": "LlGnbjshPf-G",
        "outputId": "cf91e4c3-c404-4dbf-c727-4353bf2d4870"
      },
      "execution_count": null,
      "outputs": [
        {
          "output_type": "stream",
          "name": "stdout",
          "text": [
            "1 loop, best of 5: 376 ms per loop\n"
          ]
        }
      ]
    },
    {
      "cell_type": "markdown",
      "source": [
        "`vmap` is much faster, without even needing optimization. We can further improve performance with `jit`."
      ],
      "metadata": {
        "id": "mCccFrTUQVa9"
      }
    },
    {
      "cell_type": "code",
      "source": [
        "from jax import jit\n",
        "\n",
        "jvfx = jit(vfx)\n",
        "\n",
        "%timeit jvfx(x, np.array([1.0, 2., 3.]))"
      ],
      "metadata": {
        "colab": {
          "base_uri": "https://localhost:8080/"
        },
        "id": "YujyDF-YQtSy",
        "outputId": "8a99e68c-ceb7-4648-e765-43f7e5cdde58"
      },
      "execution_count": null,
      "outputs": [
        {
          "output_type": "stream",
          "name": "stdout",
          "text": [
            "The slowest run took 198.53 times longer than the fastest. This could mean that an intermediate result is being cached.\n",
            "1000 loops, best of 5: 496 µs per loop\n"
          ]
        }
      ]
    },
    {
      "cell_type": "markdown",
      "source": [
        "# Jacobian of a vector function"
      ],
      "metadata": {
        "id": "sooqL95dRuKq"
      }
    },
    {
      "cell_type": "markdown",
      "source": [
        "A function with multiple outputs, often in the form of an array. To get the full Jacobian array, define a function with a single argument. The singmant must be an array of the x, y values."
      ],
      "metadata": {
        "id": "bLLFNbHdSIR0"
      }
    },
    {
      "cell_type": "code",
      "source": [
        "from jax import jacfwd, jacrev\n",
        "\n",
        "def f(X):\n",
        "    x, y = X\n",
        "    return np.array([x**2 * y,\n",
        "                     5 * x + np.sin(y)])\n",
        "\n",
        "jf = jacfwd(f)\n",
        "\n",
        "X = np.array([1.0, 1.0])\n",
        "jf(X)"
      ],
      "metadata": {
        "colab": {
          "base_uri": "https://localhost:8080/"
        },
        "id": "SS8mG9NhSB0z",
        "outputId": "e257341f-041f-4ff6-c2de-c65c6add565a"
      },
      "execution_count": null,
      "outputs": [
        {
          "output_type": "execute_result",
          "data": {
            "text/plain": [
              "DeviceArray([[2.        , 1.        ],\n",
              "             [5.        , 0.54030231]], dtype=float64)"
            ]
          },
          "metadata": {},
          "execution_count": 11
        }
      ]
    },
    {
      "cell_type": "markdown",
      "source": [
        "# Hessian of a function\n",
        "An array of *second-order* partial derivatives of the output. It has uses in optimization, uncertainty quantification, critical point identification, etc."
      ],
      "metadata": {
        "id": "2BwBFq9wTHQF"
      }
    },
    {
      "cell_type": "code",
      "source": [
        "from jax import hessian\n",
        "\n",
        "def f(X):\n",
        "    x, y = X\n",
        "    return x**3 - 2 * x * y - y**6\n",
        "\n",
        "hessian(f)([1., 2.])"
      ],
      "metadata": {
        "colab": {
          "base_uri": "https://localhost:8080/"
        },
        "id": "GwWSGaybTWt4",
        "outputId": "d6362482-3dd4-4245-8946-cfc1fac96b8b"
      },
      "execution_count": null,
      "outputs": [
        {
          "output_type": "execute_result",
          "data": {
            "text/plain": [
              "[[DeviceArray(6., dtype=float64, weak_type=True),\n",
              "  DeviceArray(-2., dtype=float64, weak_type=True)],\n",
              " [DeviceArray(-2., dtype=float64, weak_type=True),\n",
              "  DeviceArray(-480., dtype=float64, weak_type=True)]]"
            ]
          },
          "metadata": {},
          "execution_count": 12
        }
      ]
    },
    {
      "cell_type": "markdown",
      "source": [
        "This result is equivalent to the analytical Hessian, but considerably easier to obtain. "
      ],
      "metadata": {
        "id": "srKar_67To35"
      }
    },
    {
      "cell_type": "markdown",
      "source": [
        "# Applications of AD in math\n"
      ],
      "metadata": {
        "id": "Qzijk3MTT18Y"
      }
    },
    {
      "cell_type": "code",
      "source": [
        "# Example 1: Deriving y'(x) from f(x,y(x)) = x^3 + y^3 - 4 = 0\n",
        "def f(x, y):\n",
        "    return x**3 + y**3 - 4\n",
        "\n",
        "dfdx = grad(f, 0)\n",
        "dfdy = grad(f, 1)\n",
        "\n",
        "dydx = lambda x, y: -dfdx(x, y) / dfdy(x, y)\n",
        "\n",
        "x, y = 2.1, 3.2\n",
        "dydx(x, y), -x**2 / y**2"
      ],
      "metadata": {
        "colab": {
          "base_uri": "https://localhost:8080/"
        },
        "id": "0pgjEV4nRBZJ",
        "outputId": "8b21d2ba-c0cc-4ee6-e826-54734ee34222"
      },
      "execution_count": null,
      "outputs": [
        {
          "output_type": "execute_result",
          "data": {
            "text/plain": [
              "(DeviceArray(-0.43066406, dtype=float64, weak_type=True), -0.43066406249999994)"
            ]
          },
          "metadata": {},
          "execution_count": 13
        }
      ]
    },
    {
      "cell_type": "code",
      "source": [
        "# Example 2: Find the relationship between compressibility, temperature, and pressure with the van der Waal equation\n",
        "\n",
        "# Defining constants and function\n",
        "R = 0.08206\n",
        "Pc = 72.9\n",
        "Tc = 304.2\n",
        "\n",
        "a = 27 * R**2 * Tc**2 / (Pc * 64)\n",
        "b = R * Tc / (8 * Pc)\n",
        "\n",
        "Tr = 1.1  # Constant for this example\n",
        "\n",
        "def f(V, Pr, Tr):\n",
        "    return R * Tr * Tc / (V - b) - a / V**2 - Pr * Pc\n",
        "\n",
        "# Obtain a function for dV/dPr\n",
        "\n",
        "dfdPr = jacfwd(f, 1)  # derivative of f with respect to arg at index=1: Pr\n",
        "dfdV = jacfwd(f, 0)  # derivative of f with respect to arg at index=0: V\n",
        "\n",
        "def dVdPr(Pr, V):\n",
        "    return -dfdPr(V, Pr, Tr) / dfdV(V, Pr, Tr)\n",
        "\n",
        "# Create initial condition\n",
        "from scipy.optimize import root\n",
        "\n",
        "V0 = root(f, 3.5, args=(0.1, 1.1)).x[0]\n",
        "\n",
        "# Use ODE to analyze and plot the relationship\n",
        "import numpy as np\n",
        "from scipy.integrate import solve_ivp\n",
        "\n",
        "Pr_span = (0.1, 10)\n",
        "Pr_eval, h = np.linspace(*Pr_span, retstep=True)\n",
        "\n",
        "# The ODE function is defined by jax\n",
        "sol = solve_ivp(dVdPr, Pr_span, (V0,), max_step=h)\n",
        "print(sol.message)\n",
        "\n",
        "import matplotlib.pyplot as plt\n",
        "\n",
        "Pr = sol.t  # the P_r steps used in the solution\n",
        "V = sol.y[0]  # V(P_r) from the solution\n",
        "\n",
        "Z = Pr * Pc * V / (R * Tr * Tc)  # Compressibility Z(P_r)\n",
        "\n",
        "plt.plot(Pr, Z)\n",
        "plt.xlabel('$P_r$')\n",
        "plt.ylabel('Z')\n",
        "plt.xlim([0, 10])\n",
        "plt.ylim([0, 2])"
      ],
      "metadata": {
        "colab": {
          "base_uri": "https://localhost:8080/",
          "height": 322
        },
        "id": "yEp_d1CJWTqy",
        "outputId": "657783c6-05b8-48d3-910f-d79510eb4c87"
      },
      "execution_count": null,
      "outputs": [
        {
          "output_type": "stream",
          "name": "stdout",
          "text": [
            "The solver successfully reached the end of the integration interval.\n"
          ]
        },
        {
          "output_type": "execute_result",
          "data": {
            "text/plain": [
              "(0.0, 2.0)"
            ]
          },
          "metadata": {},
          "execution_count": 14
        },
        {
          "output_type": "display_data",
          "data": {
            "text/plain": [
              "<Figure size 432x288 with 1 Axes>"
            ],
            "image/png": "[encoded data removed]"
          },
          "metadata": {
            "needs_background": "light"
          }
        }
      ]
    },
    {
      "cell_type": "code",
      "source": [
        "# Find a solution for the set of equations: \n",
        "#   e^(-e^(-e)^(x1+x2)) = x2(1+x1^2) \n",
        "#   x1cos(x2)+x2sin(x1)=1/2\n",
        "\n",
        "# Strategy: Find one solution to each equation \n",
        "# => Derive a differential equation for each equation that we can integrate \n",
        "# to find the curve that is defined by the implicit function\n",
        "\n",
        "# Find one solution to each equation\n",
        "import jax.numpy as np\n",
        "from scipy.optimize import root\n",
        "\n",
        "def f1(x1, x2):\n",
        "    return np.exp(-np.exp(-(x1 + x2))) - x2 * (1 + x1**2)\n",
        "\n",
        "def f2(x1, x2):\n",
        "    return x1 * np.cos(x2) + x2 * np.sin(x1) - 0.5\n",
        "\n",
        "x2_1 = 0.6  # just a guess\n",
        "x1_1 = root(f1, 0, args=(x2_1,)).x[0]\n",
        "print('f1: ', x1_1, x2_1)\n",
        "\n",
        "x2_2 = 1.0\n",
        "x1_2 = root(f2, 0 ,args=(x2_2,)).x[0]\n",
        "print('f2: ', x1_2, x2_2)\n",
        "\n",
        "# Obtain the dx2/dx1 differential equation using the Jacobian function\n",
        "\n",
        "# 1st equation\n",
        "df1dx1 = jacfwd(f1, 0)\n",
        "df1dx2 = jacfwd(f1, 1)\n",
        "\n",
        "def dx2dx1_1(x1, x2):\n",
        "    return -df1dx1(x1, x2) / df1dx2(x1, x2)\n",
        "\n",
        "x1_span = (x1_1, 1)\n",
        "x2_0 = (x2_1, )\n",
        "sol1 = solve_ivp(dx2dx1_1, x1_span, x2_0, max_step=0.1)\n",
        "\n",
        "# 2nd equation\n",
        "df2dx1 = jacfwd(f2, 0)\n",
        "df2dx2 = jacfwd(f2, 1)\n",
        "\n",
        "def dx2dx1_2(x1, x2):\n",
        "    return -df2dx1(x1, x2) / df2dx2(x1, x2)\n",
        "\n",
        "x1_span = (x1_2, 1)\n",
        "x2_0 = (x2_2, )\n",
        "sol2 = solve_ivp(dx2dx1_2, x1_span, x2_0, max_step=0.1)\n",
        "\n",
        "# Plot two solutions\n",
        "plt.plot(x1_1, x2_1, 'bo') # starting point we integrated from\n",
        "plt.plot(sol1.t, sol1.y.T, label='f1')\n",
        "\n",
        "plt.plot(x1_2, x2_2, 'ro') # starting point we integrated from\n",
        "plt.plot(sol2.t, sol2.y.T, label='f2')\n",
        "plt.xlabel('$x_1$')\n",
        "plt.ylabel('$x_2$')\n",
        "plt.legend();\n"
      ],
      "metadata": {
        "colab": {
          "base_uri": "https://localhost:8080/",
          "height": 316
        },
        "id": "1udVz5PUYGgS",
        "outputId": "bf9a4e8f-4a8d-48ca-bf2c-35014e003bb5"
      },
      "execution_count": null,
      "outputs": [
        {
          "output_type": "stream",
          "name": "stdout",
          "text": [
            "f1:  0.08638978040861532 0.6\n",
            "f2:  0.32842406163614396 1.0\n"
          ]
        },
        {
          "output_type": "display_data",
          "data": {
            "text/plain": [
              "<Figure size 432x288 with 1 Axes>"
            ],
            "image/png": "[encoded data removed]"
          },
          "metadata": {
            "needs_background": "light"
          }
        }
      ]
    },
    {
      "cell_type": "markdown",
      "source": [
        "There is only one intersection near x1 = 0.4 and x2 = 0.2. Use that to find the only solution"
      ],
      "metadata": {
        "id": "ZG-rrIZCaEna"
      }
    },
    {
      "cell_type": "code",
      "source": [
        "def objective(X):\n",
        "    x1, x2 = X\n",
        "    return [f1(x1, x2), f2(x1, x2)]\n",
        "\n",
        "root(objective, [0.4, 0.6])"
      ],
      "metadata": {
        "colab": {
          "base_uri": "https://localhost:8080/"
        },
        "id": "xxV-a-1lZ-St",
        "outputId": "95dc2299-10cd-4308-fbfc-1fe053bc5a6d"
      },
      "execution_count": null,
      "outputs": [
        {
          "output_type": "execute_result",
          "data": {
            "text/plain": [
              "    fjac: array([[-0.14215877,  0.98984387],\n",
              "       [-0.98984387, -0.14215877]])\n",
              "     fun: array([-1.11022302e-16, -5.55111512e-17])\n",
              " message: 'The solution converged.'\n",
              "    nfev: 9\n",
              "     qtf: array([-2.65697283e-12, -8.97716217e-12])\n",
              "       r: array([1.40977408, 0.26613721, 0.83465429])\n",
              "  status: 1\n",
              " success: True\n",
              "       x: array([0.35324662, 0.60608174])"
            ]
          },
          "metadata": {},
          "execution_count": 16
        }
      ]
    },
    {
      "cell_type": "code",
      "source": [
        "# Example 3: In the binary, batch distillation of batch distillation of benzene (1) and toluene (2), the moles of liquid $L$ remaining as a function of the mole fraction of toluene is expressed by:\n",
        "# dL / dx2 = L / (x2(k2 - 1))\n",
        "# where k2 is the vapor liquid equilibrium ratio for toluene, which can be computed as:\n",
        "# ki = Pi / P where Pi = 10^(Ai + Bi/(T + Ci))\n",
        "\n",
        "# Strategy: Derive a second ODE dT/dx2 from the constraint. The constraint is implicit in T, so\n",
        "# We computed it as dT / dx2 = -df/dx2/df/dT where f(x2,T) = k1(T)x1 + k2(T)x2 - 1 =0\n",
        "\n",
        "# Finding the initial temperature from the constraint\n",
        "\n",
        "P = 760 * 1.2 # mmHg\n",
        "A1, B1, C1 = 6.90565, -1211.033,  220.79\n",
        "A2, B2, C2 = 6.95464, -1344.8, 219.482\n",
        "\n",
        "def k1(T):\n",
        "    return 10**(A1 + B1 / (C1 + T)) / P\n",
        "\n",
        "def k2(T):\n",
        "    return 10**(A2 + B2 / (C2 + T)) / P\n",
        "\n",
        "def f(x2, T):\n",
        "    x1 = 1 - x2\n",
        "    return k1(T) * x1 + k2(T) * x2 - 1\n",
        "\n",
        "T0, = root(lambda T: f(0.4, T), 96).x\n",
        "print(f'The initial temperature is {T0:1.2f} degC.')"
      ],
      "metadata": {
        "colab": {
          "base_uri": "https://localhost:8080/"
        },
        "id": "0wYJLc5waXUC",
        "outputId": "58294902-aa8f-4d7a-d3ae-d674131e4bd8"
      },
      "execution_count": null,
      "outputs": [
        {
          "output_type": "stream",
          "name": "stdout",
          "text": [
            "The initial temperature is 95.59 degC.\n"
          ]
        }
      ]
    },
    {
      "cell_type": "code",
      "source": [
        "# Compute the derivative\n",
        "\n",
        "dfdx2 = grad(f, 0)\n",
        "dfdT = grad(f, 1)\n",
        "\n",
        "def dTdx2(x2, T):\n",
        "    return -dfdx2(x2, T) / dfdT(x2, T)\n",
        "\n",
        "def ode(x2, X):\n",
        "    L, T = X\n",
        "    dLdx2 = L / (x2 * (k2(T) - 1))\n",
        "    return [dLdx2, dTdx2(x2, T)]"
      ],
      "metadata": {
        "id": "88bWdLj3btKU"
      },
      "execution_count": null,
      "outputs": []
    },
    {
      "cell_type": "code",
      "source": [
        "# Solve and plot the ODE\n",
        "\n",
        "x2span = (0.4, 0.8)\n",
        "X0 = (100, T0)\n",
        "sol = solve_ivp(ode, x2span, X0, max_step=0.01)\n",
        "\n",
        "plt.plot(sol.t, sol.y.T)\n",
        "plt.legend(['L', 'T']);\n",
        "plt.xlabel('$x_2$')\n",
        "plt.ylabel('L, T')\n",
        "x2 = sol.t\n",
        "L, T = sol.y\n",
        "print(f'At x2={x2[-1]:1.2f} there are {L[-1]:1.2f} moles of liquid left at {T[-1]:1.2f} degC')"
      ],
      "metadata": {
        "colab": {
          "base_uri": "https://localhost:8080/",
          "height": 299
        },
        "id": "Skq6dP2KbyeS",
        "outputId": "c48a43bd-f998-418d-ba39-5856e05289c9"
      },
      "execution_count": null,
      "outputs": [
        {
          "output_type": "stream",
          "name": "stdout",
          "text": [
            "At x2=0.80 there are 14.04 moles of liquid left at 108.57 degC\n"
          ]
        },
        {
          "output_type": "display_data",
          "data": {
            "text/plain": [
              "<Figure size 432x288 with 1 Axes>"
            ],
            "image/png": "[encoded data removed]"
          },
          "metadata": {
            "needs_background": "light"
          }
        }
      ]
    },
    {
      "cell_type": "code",
      "source": [
        "# The liquid level drops and the temperature rises \n",
        "# Verifying that the constraint is met\n",
        "\n",
        "constraint = k1(T) * (1 - x2) + k2(T) * x2 - 1\n",
        "print(np.allclose(constraint, 0))"
      ],
      "metadata": {
        "colab": {
          "base_uri": "https://localhost:8080/"
        },
        "id": "aGycaKtMbyfj",
        "outputId": "67d423df-2dd4-453a-82ca-a1c65b2f5d7e"
      },
      "execution_count": null,
      "outputs": [
        {
          "output_type": "stream",
          "name": "stdout",
          "text": [
            "True\n"
          ]
        }
      ]
    },
    {
      "cell_type": "code",
      "source": [
        "# Example 4: Solve the following nonlinear equations\n",
        "#   2 + x + y - x^2 + 8xy + y^3 = 0\n",
        "#   1 + 2x - 3y + x^2 + xy - ye^x = 0\n",
        "\n",
        "# Rewrite the function as \n",
        "#   f(x,y) = (2 + x + y) + lambda(- x^2 + 8 x y + y^3) = 0\n",
        "#   g(x,y) = (1 + 2x - 3y) + lambda(x^2 + xy - y e^x) = 0\n",
        "\n",
        "# At lambda = 0,\n",
        "#   x + y = -2\n",
        "#   2x - 3y = -1\n",
        "\n",
        "x0 = np.linalg.solve([[1., 1.],\n",
        "                      [2., -3.]],\n",
        "                      [-2, -1])\n",
        "print(x0)\n",
        "\n",
        "# I'm not sure how but this works\n",
        "from jax.experimental.ode import odeint\n",
        "from jax import jacrev\n",
        "\n",
        "def F(X, _lam):\n",
        "    x, y = X\n",
        "    return np.array([2 + x + y + _lam * (- x**2 + 8 * x * y + y**3),\n",
        "                     1 + 2*x - 3*y + _lam * (x**2 + x * y - y * np.exp(x))])\n",
        "\n",
        "JF = jacrev(F, 0)\n",
        "JL = jacrev(F, 1)\n",
        "\n",
        "def dXdlambda(X, _lam):\n",
        "    return np.linalg.solve(JF(X, _lam), -JL(X, _lam))\n",
        "    \n",
        "lambda_span = np.array((0.0, 1.0))\n",
        "                         \n",
        "Xsol = odeint(dXdlambda, x0, lambda_span)\n",
        "Xsol[-1]"
      ],
      "metadata": {
        "colab": {
          "base_uri": "https://localhost:8080/"
        },
        "id": "kYmKARhacJA3",
        "outputId": "ab670ee7-d5e7-459e-b1eb-80e73cbd4f9b"
      },
      "execution_count": null,
      "outputs": [
        {
          "output_type": "stream",
          "name": "stdout",
          "text": [
            "[-1.4 -0.6]\n"
          ]
        },
        {
          "output_type": "execute_result",
          "data": {
            "text/plain": [
              "DeviceArray([-1.00000007e+00, -1.77668136e-08], dtype=float64)"
            ]
          },
          "metadata": {},
          "execution_count": 23
        }
      ]
    },
    {
      "cell_type": "code",
      "source": [
        "# Creative solutions to an ODE\n",
        "# Discretize the region want solution on -> Set up an objective function -> Computes the error and initial condition\n",
        "# -> Minimize that\n",
        "\n",
        "import jax.numpy as np\n",
        "\n",
        "x = np.linspace(0, 10, 100)\n",
        "\n",
        "def ode(x, y):\n",
        "    return -0.23 * y\n",
        "\n",
        "y0 = 1\n",
        "\n",
        "# we solve for the solution y directly by minimizing this error function.\n",
        "def objective(y):      \n",
        "    dydx = np.zeros(y.shape)\n",
        "    dydx = dydx.at[0].set((y[1] - y[0]) / (x[1] - x[0]))\n",
        "    dydx = dydx.at[1:-1].set((y[1:-1] - y[:-2]) / (x[1:-1] - x[:-2]))\n",
        "    dydx = dydx.at[-1].set((y[-1] - y[-2]) / (x[-1] - x[-2]))\n",
        "   \n",
        "    errs = ode(x, y) - dydx\n",
        "    \n",
        "    return np.mean(errs**2) + (y[0] - y0)**2\n",
        "\n",
        "from scipy.optimize import minimize\n",
        "\n",
        "sol = minimize(objective, -x, jac=grad(objective))\n",
        "\n",
        "\n",
        "import matplotlib.pyplot as plt\n",
        "plt.plot(x, sol.x, label='numerical solution')\n",
        "plt.plot(x, y0 * np.exp(-0.23 * x), 'r--', label='analytical solution')\n",
        "         \n",
        "plt.xlabel('x')\n",
        "plt.ylabel('y')\n",
        "plt.legend();"
      ],
      "metadata": {
        "colab": {
          "base_uri": "https://localhost:8080/",
          "height": 279
        },
        "id": "s34XOg9ke7Bm",
        "outputId": "73c772dc-ab25-4ced-dca9-7576874cbe99"
      },
      "execution_count": null,
      "outputs": [
        {
          "output_type": "display_data",
          "data": {
            "text/plain": [
              "<Figure size 432x288 with 1 Axes>"
            ],
            "image/png": "[encoded data removed]"
          },
          "metadata": {
            "needs_background": "light"
          }
        }
      ]
    },
    {
      "cell_type": "code",
      "source": [
        "import jax.numpy as np\n",
        "\n",
        "x = np.linspace(0, 10, 100)\n",
        "\n",
        "def ode(x, y):\n",
        "    return -0.23 * y\n",
        "\n",
        "y0 = 1\n",
        "\n",
        "# we solve for the solution y directly by minimizing this error function.\n",
        "def objective(y):      \n",
        "\n",
        "    p = np.polyfit(x, y, 8)\n",
        "    dp = np.polyder(p)\n",
        "    dydx = np.polyval(dp, x)\n",
        "   \n",
        "    errs = ode(x, y) - dydx\n",
        "    \n",
        "    return np.mean(errs**2) + (y[0] - y0)**2\n",
        "\n",
        "from scipy.optimize import minimize\n",
        "\n",
        "sol = minimize(objective, -x, jac=grad(objective))\n",
        "\n",
        "plt.subplot(1, 2, 1)\n",
        "plt.plot(x, sol.x, label='numerical solution')\n",
        "plt.plot(x, y0 * np.exp(-0.23 * x), 'r--', label='analytical solution')\n",
        "         \n",
        "plt.xlabel('x')\n",
        "plt.ylabel('y')\n",
        "plt.legend();\n",
        "\n",
        "plt.subplot(1, 2, 2)\n",
        "plt.plot(x, sol.x - y0 * np.exp(-0.23 * x))\n",
        "plt.xlabel('x')\n",
        "plt.ylabel('errors')\n",
        "plt.tight_layout();"
      ],
      "metadata": {
        "colab": {
          "base_uri": "https://localhost:8080/",
          "height": 297
        },
        "id": "Uifzs0uWfPEq",
        "outputId": "8e678bec-5a05-44db-81db-fd3d7fcf2763"
      },
      "execution_count": null,
      "outputs": [
        {
          "output_type": "display_data",
          "data": {
            "text/plain": [
              "<Figure size 432x288 with 2 Axes>"
            ],
            "image/png": "[encoded data removed]"
          },
          "metadata": {
            "needs_background": "light"
          }
        }
      ]
    },
    {
      "cell_type": "markdown",
      "source": [
        "# Applications in science and engineering"
      ],
      "metadata": {
        "id": "y_nRbR14fwDE"
      }
    },
    {
      "cell_type": "code",
      "source": [
        "# Example 1: Shows that Gibbs-Duhem is satisfied\n",
        "\n",
        "A12, A21 = 2.04, 1.5461  # Acetone/water\n",
        "\n",
        "def GexRT(n1, n2):\n",
        "    n = n1 + n2\n",
        "    x1 = n1 / n\n",
        "    x2 = n2 / n\n",
        "    return n * x1 * x2 * (A21 * x1 + A12 * x2)\n",
        "\n",
        "lngamma1 = grad(GexRT)     # dGex/dn1\n",
        "lngamma2 = grad(GexRT, 1)  # dGex/dn2\n",
        "\n",
        "n1, n2 = 1.0, 2.0\n",
        "n = n1 + n2\n",
        "x1 = n1 / n\n",
        "x2 = n2 / n\n",
        "\n",
        "# Evaluate the activity coefficients\n",
        "print('AD:         ',lngamma1(n1, n2), lngamma2(n1, n2))\n",
        "\n",
        "# Compare that to these analytically derived activity coefficients\n",
        "print('Analytical: ', (A12 + 2 * (A21 - A12) * x1) * x2**2, (A21 + 2 * (A12 - A21) * x2) * x1**2)\n",
        "\n",
        "# Demonstration of the Gibbs-Duhem rule\n",
        "dg1 = vmap(grad(lngamma1))\n",
        "dg2 = vmap(grad(lngamma2))\n",
        "\n",
        "n = 1.0 # Choose a basis number of moles\n",
        "x1 = np.linspace(0, 1)\n",
        "x2 = 1 - x1\n",
        "n1 = n * x1\n",
        "n2 = n - n1\n",
        "\n",
        "GD = x1 * dg1(n1, n2) + x2 * dg2(n1, n2)\n",
        "\n",
        "print(np.allclose(GD, np.zeros(len(GD))))"
      ],
      "metadata": {
        "colab": {
          "base_uri": "https://localhost:8080/"
        },
        "id": "RfEb59z2fsrs",
        "outputId": "1d6ff028-ed1d-4ead-ead3-179cec062e3d"
      },
      "execution_count": null,
      "outputs": [
        {
          "output_type": "stream",
          "name": "stdout",
          "text": [
            "AD:          0.7603259259259258 0.24495925925925932\n",
            "Analytical:  0.760325925925926 0.24495925925925924\n",
            "True\n"
          ]
        }
      ]
    },
    {
      "cell_type": "code",
      "source": [
        "# Example 2: Compute pressure of a solid under isotropic strain\n",
        "\n",
        "E0, B0, BP, V0 = -56.466,   0.49,    4.753,  16.573\n",
        "\n",
        "def Murnaghan(vol):\n",
        "    E = E0 + B0 * vol / BP * (((V0 / vol)**BP) / (BP - 1.0) + 1.0) - V0 * B0 / (BP - 1.)\n",
        "    return E\n",
        "\n",
        "def P(vol):\n",
        "    dEdV = grad(Murnaghan)\n",
        "    return -dEdV(vol) * 160.21773  # in Gpa\n",
        "\n",
        "print(P(V0)) # Pressure at the minimum in energy is zero\n",
        "print(P(0.99 * V0))  # Compressed"
      ],
      "metadata": {
        "colab": {
          "base_uri": "https://localhost:8080/"
        },
        "id": "4udPeQppfvNs",
        "outputId": "739e8384-31fb-418c-d058-7fb8596da36d"
      },
      "execution_count": null,
      "outputs": [
        {
          "output_type": "stream",
          "name": "stdout",
          "text": [
            "-0.0\n",
            "0.8081676846907802\n"
          ]
        }
      ]
    },
    {
      "cell_type": "code",
      "source": [
        "# Example 3: Heat capacity from the Shomate equations\n",
        "\n",
        "A, B, C, D, E, F, G, H = [30.09200,\n",
        "                          6.832514,\n",
        "                          6.793435,\n",
        "                          -2.534480,\n",
        "                          0.082139,\n",
        "                          -250.8810,\n",
        "                          223.3967,\n",
        "                          -241.8264]\n",
        "\n",
        "def dH(T):\n",
        "    'H - H0 in kJ / mol'\n",
        "    T = np.atleast_1d(T)\n",
        "    t = ((T / 1000)[:, None])**np.array([1, 2, 3, 4, -1, 0, 0])\n",
        "    return (np.array([[A, B / 2, C / 3, D / 4, -E, F, -H]]) @ t.T).squeeze()\n",
        "\n",
        "Cp = grad(dH)\n",
        "print(f'The Cp for water is {Cp(600.0) * 1000} J / mol / K')\n",
        "\n",
        "def aCp(T):\n",
        "    T = np.atleast_1d(T)\n",
        "    t = (T / 1000)[:, None]**np.array([0, 1, 2, 3, -2])\n",
        "    return (np.array([[A, B, C, D, E]]) @ t.T).squeeze()\n",
        "\n",
        "print(f'The Cp for water is {aCp(600.0)} J / mol / K')\n",
        "\n",
        "dH([600, 700])\n",
        "\n",
        "vmap(Cp)(np.array([600.0, 700.0])) * 1000"
      ],
      "metadata": {
        "colab": {
          "base_uri": "https://localhost:8080/"
        },
        "id": "dAytUskChAYw",
        "outputId": "0e872b6a-28b5-4cb8-cc87-bff75dfa22ab"
      },
      "execution_count": null,
      "outputs": [
        {
          "output_type": "stream",
          "name": "stdout",
          "text": [
            "The Cp for water is 36.317861208888885 J / mol / K\n",
            "The Cp for water is 36.317861208888885 J / mol / K\n"
          ]
        },
        {
          "output_type": "execute_result",
          "data": {
            "text/plain": [
              "DeviceArray([36.31786121, 37.50184692], dtype=float64)"
            ]
          },
          "metadata": {},
          "execution_count": 28
        }
      ]
    },
    {
      "cell_type": "code",
      "source": [
        "# Example 4: Lennord Jones potential with forces\n",
        "\n",
        "def get_potential_energy(params, positions):\n",
        "    \"\"\"Compute the energy of a molecular Lennard-Jones system.\"\"\"\n",
        "\n",
        "    sigma = params.get('sigma', 1.0)\n",
        "    epsilon = params.get('epsilon', 1.0)\n",
        "\n",
        "    r2 = np.sum((positions[:, None] - positions[None, :])**2, axis=2)\n",
        "\n",
        "    R2 = r2[np.triu(r2) > 0] # get only the upper triangle\n",
        "    c6 = (sigma**2 / R2)**3\n",
        "    c12 = c6**2\n",
        "    energy = 4 * epsilon * np.sum(c12 - c6)\n",
        "    return energy\n",
        "\n",
        "    get_potential_energy({}, np.array([[0.0, 0.0, 0.0],\n",
        "                                   [0.0, 0.0, 2**(1 / 6)]]))\n",
        "    \n",
        "    def get_forces(params, positions):\n",
        "      dedr = grad(get_potential_energy, 1)\n",
        "      return -dedr(params, positions)\n",
        "\n",
        "    get_forces({}, np.array([[0.0, 0.0, 0.0],\n",
        "                         [0.0, 0.0, 2.0**(1/6)]]))"
      ],
      "metadata": {
        "id": "hpTJWmCfhJqP"
      },
      "execution_count": null,
      "outputs": []
    },
    {
      "cell_type": "markdown",
      "source": [
        "# Applications of AD in machine learning"
      ],
      "metadata": {
        "id": "gSJEg46Uh_Jt"
      }
    },
    {
      "cell_type": "code",
      "source": [
        "# Example 1: Neural network\n",
        "\n",
        "import jax\n",
        "import jax.numpy as np\n",
        "from jax import random\n",
        "key = random.PRNGKey(12) # initialize random number generator.\n",
        "\n",
        "def init_params(scale, layers):\n",
        "    '''\n",
        "    scale: float\n",
        "    layers: integers for neurons in each layer\n",
        "    '''\n",
        "    weights = []\n",
        "    biases = []\n",
        "    for i in range(len(layers) - 1):\n",
        "        in_d = layers[i]\n",
        "        out_d = layers[i + 1]\n",
        "\n",
        "        weights += [jax.random.normal(key, (in_d, out_d)) * scale]\n",
        "        biases += [jax.random.normal(key, (out_d,)) * scale]\n",
        "        \n",
        "    return dict(weights=weights, biases=biases)\n",
        "\n",
        "def nn(params, X, activation=jax.nn.tanh):\n",
        "    out = activation(X @ params['weights'][0] + params['biases'][0])\n",
        "\n",
        "    for i in range(1, len(params['weights']) - 2):\n",
        "        out = activation(out @ params['weights'][i] + params['biases'][i])\n",
        "\n",
        "    # no activation on the output, just linear combination\n",
        "    return out @ params['weights'][-1] + params['biases'][-1]\n",
        "\n",
        "pars = init_params(0.1, (1, 5, 1))\n",
        "\n",
        "with np.printoptions(precision=3):\n",
        "    print(pars)\n",
        "\n",
        "nn(pars, np.array([0.1]))\n",
        "\n",
        "def objective(pars):\n",
        "    p = nn(pars, x)\n",
        "    errs = p - y\n",
        "    return (errs.T @ errs).squeeze()\n",
        "    x = np.linspace(0, 1, 10)[:, None]\n",
        "y = x**(1/3)\n",
        "\n",
        "objective(pars)\n",
        "\n",
        "import jax.example_libraries.optimizers as jax_opt\n",
        "from jax import jit\n",
        "from jax import value_and_grad\n",
        "\n",
        "opt_init, opt_update, get_params = jax_opt.adam(1e-2)\n",
        "\n",
        "opt_state = opt_init(pars)\n",
        "\n",
        "@jit\n",
        "def step(i, opt_state):\n",
        "    value, grads = value_and_grad(objective)(get_params(opt_state))\n",
        "    return value, opt_update(i, grads, opt_state)\n",
        "\n",
        "for i in range(1000000):\n",
        "    value, opt_state = step(i, opt_state)\n",
        "    if np.abs(value) < 1e-4:\n",
        "        break\n",
        "\n",
        "print(i, value)\n",
        "\n",
        "import matplotlib.pyplot as plt\n",
        "\n",
        "X = np.linspace(0, 1)[:, None]\n",
        "\n",
        "plt.plot(x, y, 'b.')\n",
        "plt.plot(X, nn(get_params(opt_state), X))\n",
        "plt.xlabel('x')\n",
        "plt.ylabel('y');\n",
        "\n",
        "from sklearn.neural_network import MLPRegressor\n",
        "\n",
        "model = MLPRegressor(hidden_layer_sizes=(5,), activation='tanh', solver='lbfgs')\n",
        "\n",
        "model.fit(x, y.ravel())\n",
        "\n",
        "xx = np.linspace(0, 1)[:, None]\n",
        "plt.plot(x, y, 'b.')\n",
        "plt.plot(xx, model.predict(xx))\n",
        "plt.xlabel('x')\n",
        "plt.ylabel('y');\n",
        "\n",
        "pars = get_params(opt_state)\n",
        "\n",
        "xx = np.linspace(-5, 5)[:, None]\n",
        "plt.plot(x, y, 'b.')\n",
        "plt.plot(xx, nn(pars, xx))"
      ],
      "metadata": {
        "colab": {
          "base_uri": "https://localhost:8080/",
          "height": 510
        },
        "id": "cMcygmjtiBvC",
        "outputId": "1b9fd890-6c75-4032-9efa-849edf1d3f24"
      },
      "execution_count": null,
      "outputs": [
        {
          "output_type": "stream",
          "name": "stdout",
          "text": [
            "{'weights': [DeviceArray([[ 0.094, -0.068, -0.053, -0.247, -0.072]], dtype=float64), DeviceArray([[ 0.094],\n",
            "             [-0.068],\n",
            "             [-0.053],\n",
            "             [-0.247],\n",
            "             [-0.072]], dtype=float64)], 'biases': [DeviceArray([ 0.094, -0.068, -0.053, -0.247, -0.072], dtype=float64), DeviceArray([0.037], dtype=float64)]}\n"
          ]
        },
        {
          "output_type": "error",
          "ename": "UnboundLocalError",
          "evalue": "ignored",
          "traceback": [
            "\u001b[0;31m---------------------------------------------------------------------------\u001b[0m",
            "\u001b[0;31mUnboundLocalError\u001b[0m                         Traceback (most recent call last)",
            "\u001b[0;32m<ipython-input-33-e386ba28401f>\u001b[0m in \u001b[0;36m<module>\u001b[0;34m()\u001b[0m\n\u001b[1;32m     45\u001b[0m \u001b[0my\u001b[0m \u001b[0;34m=\u001b[0m \u001b[0mx\u001b[0m\u001b[0;34m**\u001b[0m\u001b[0;34m(\u001b[0m\u001b[0;36m1\u001b[0m\u001b[0;34m/\u001b[0m\u001b[0;36m3\u001b[0m\u001b[0;34m)\u001b[0m\u001b[0;34m\u001b[0m\u001b[0;34m\u001b[0m\u001b[0m\n\u001b[1;32m     46\u001b[0m \u001b[0;34m\u001b[0m\u001b[0m\n\u001b[0;32m---> 47\u001b[0;31m \u001b[0mobjective\u001b[0m\u001b[0;34m(\u001b[0m\u001b[0mpars\u001b[0m\u001b[0;34m)\u001b[0m\u001b[0;34m\u001b[0m\u001b[0;34m\u001b[0m\u001b[0m\n\u001b[0m\u001b[1;32m     48\u001b[0m \u001b[0;34m\u001b[0m\u001b[0m\n\u001b[1;32m     49\u001b[0m \u001b[0;32mimport\u001b[0m \u001b[0mjax\u001b[0m\u001b[0;34m.\u001b[0m\u001b[0mexample_libraries\u001b[0m\u001b[0;34m.\u001b[0m\u001b[0moptimizers\u001b[0m \u001b[0;32mas\u001b[0m \u001b[0mjax_opt\u001b[0m\u001b[0;34m\u001b[0m\u001b[0;34m\u001b[0m\u001b[0m\n",
            "\u001b[0;32m<ipython-input-33-e386ba28401f>\u001b[0m in \u001b[0;36mobjective\u001b[0;34m(pars)\u001b[0m\n\u001b[1;32m     39\u001b[0m \u001b[0;34m\u001b[0m\u001b[0m\n\u001b[1;32m     40\u001b[0m \u001b[0;32mdef\u001b[0m \u001b[0mobjective\u001b[0m\u001b[0;34m(\u001b[0m\u001b[0mpars\u001b[0m\u001b[0;34m)\u001b[0m\u001b[0;34m:\u001b[0m\u001b[0;34m\u001b[0m\u001b[0;34m\u001b[0m\u001b[0m\n\u001b[0;32m---> 41\u001b[0;31m     \u001b[0mp\u001b[0m \u001b[0;34m=\u001b[0m \u001b[0mnn\u001b[0m\u001b[0;34m(\u001b[0m\u001b[0mpars\u001b[0m\u001b[0;34m,\u001b[0m \u001b[0mx\u001b[0m\u001b[0;34m)\u001b[0m\u001b[0;34m\u001b[0m\u001b[0;34m\u001b[0m\u001b[0m\n\u001b[0m\u001b[1;32m     42\u001b[0m     \u001b[0merrs\u001b[0m \u001b[0;34m=\u001b[0m \u001b[0mp\u001b[0m \u001b[0;34m-\u001b[0m \u001b[0my\u001b[0m\u001b[0;34m\u001b[0m\u001b[0;34m\u001b[0m\u001b[0m\n\u001b[1;32m     43\u001b[0m     \u001b[0;32mreturn\u001b[0m \u001b[0;34m(\u001b[0m\u001b[0merrs\u001b[0m\u001b[0;34m.\u001b[0m\u001b[0mT\u001b[0m \u001b[0;34m@\u001b[0m \u001b[0merrs\u001b[0m\u001b[0;34m)\u001b[0m\u001b[0;34m.\u001b[0m\u001b[0msqueeze\u001b[0m\u001b[0;34m(\u001b[0m\u001b[0;34m)\u001b[0m\u001b[0;34m\u001b[0m\u001b[0;34m\u001b[0m\u001b[0m\n",
            "\u001b[0;31mUnboundLocalError\u001b[0m: local variable 'x' referenced before assignment"
          ]
        }
      ]
    }
  ]
}